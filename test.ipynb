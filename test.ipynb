{
 "cells": [
  {
   "cell_type": "code",
   "execution_count": 28,
   "metadata": {
    "collapsed": true,
    "pycharm": {
     "name": "#%%\n"
    }
   },
   "outputs": [],
   "source": [
    "from bs4 import BeautifulSoup\n",
    "import pandas as pd\n",
    "from selenium import webdriver\n",
    "from selenium.webdriver.chrome.options import Options\n",
    "from selenium.webdriver.support.wait import WebDriverWait\n",
    "import lxml\n",
    "from requests_html import HTMLSession, AsyncHTMLSession\n",
    "import json\n",
    "import requests\n",
    "from datetime import datetime\n",
    "import os"
   ]
  },
  {
   "cell_type": "code",
   "execution_count": 13,
   "outputs": [],
   "source": [
    "URL_CA = 'https://h2-ca.com/reports?id=2'\n",
    "EUR_JSON_350_L = 'https://my.h2.live/ceemes/base.php?__type__=fuelstation&action=xmllist&__status_fueltype__=P350_LARGE&__language__=en&__transform__=json&__fieldsin__=idx,name,street,streetnr,zip,city,combinedstatuscombinedremark,has_350_large,has_350_small,has_700_small,image,opening_hours,latitude,longitude,operatorname,operatorlogo,hostname,operatorhotline,comments,news,date_commissioning_messageprogress_percent,progress_description,progress_extratext,countryshortname,funding,paymenttypespaymentinfo,price_message,activity_message,tec_recom_time,openinghours_nextchange_message&__t__=b13831e6243b9bcd4c74aeda55c1fe22'\n",
    "\n",
    "EUR_JSON_350_S = 'https://my.h2.live/ceemes/base.php?__type__=fuelstation&action=xmllist&__status_fueltype__=P350_LARGE&__language__=en&__transform__=json&__fieldsin__=idx,name,street,streetnr,zip,city,combinedstatuscombinedremark,has_350_large,has_350_small,has_700_small,image,opening_hours,latitude,longitude,operatorname,operatorlogo,hostname,operatorhotline,comments,news,date_commissioning_messageprogress_percent,progress_description,progress_extratext,countryshortname,funding,paymenttypespaymentinfo,price_message,activity_message,tec_recom_time,openinghours_nextchange_message&__t__=b13831e6243b9bcd4c74aeda55c1fe22'\n",
    "\n",
    "EUR_JSON_700 = 'https://my.h2.live/ceemes/base.php?__type__=fuelstation&action=xmllist&__status_fueltype__=P700_SMALL&__language__=en&__transform__=json&__fieldsin__=idx,name,street,streetnr,zip,city,combinedstatus,combinedremark,has_350_large,has_350_small,has_700_small,image,opening_hours,latitude,longitude,operatorname,operatorlogo,hostname,operatorhotline,comments,news,date_commissioning_message,progress_percent,progress_description,progress_extratext,countryshortname,funding,paymenttypes,paymentinfo,price_message,activity_message,tec_recom_time,openinghours_nextchange_message&__t__=b13831e6243b9bcd4c74aeda55c1fe22'"
   ],
   "metadata": {
    "collapsed": false,
    "pycharm": {
     "name": "#%%\n"
    }
   }
  },
  {
   "cell_type": "code",
   "execution_count": 14,
   "outputs": [],
   "source": [
    "r_350_L = requests.get(EUR_JSON_350_L)\n",
    "r_350_S = requests.get(EUR_JSON_350_S)\n",
    "r_700 = requests.get(EUR_JSON_700)"
   ],
   "metadata": {
    "collapsed": false,
    "pycharm": {
     "name": "#%%\n"
    }
   }
  },
  {
   "cell_type": "code",
   "execution_count": 20,
   "outputs": [],
   "source": [
    "df_350_L = pd.DataFrame(r_350_L.json()['fuelstation'])\n",
    "df_350_S = pd.DataFrame(r_350_S.json()['fuelstation'])\n",
    "df_700 = pd.DataFrame(r_700.json()['fuelstation'])"
   ],
   "metadata": {
    "collapsed": false,
    "pycharm": {
     "name": "#%%\n"
    }
   }
  },
  {
   "cell_type": "code",
   "execution_count": 26,
   "outputs": [
    {
     "data": {
      "text/plain": "'2022-11-10 13:36'"
     },
     "execution_count": 26,
     "metadata": {},
     "output_type": "execute_result"
    }
   ],
   "source": [
    "datetime.now().strftime('%Y-%m-%d %H:%M')"
   ],
   "metadata": {
    "collapsed": false,
    "pycharm": {
     "name": "#%%\n"
    }
   }
  },
  {
   "cell_type": "code",
   "execution_count": 29,
   "outputs": [],
   "source": [
    "for df in [df_350_L, df_350_S, df_700]:\n",
    "    df['Datetime'] = datetime.now().strftime(\"%Y-%m-%d %H:%M\")"
   ],
   "metadata": {
    "collapsed": false,
    "pycharm": {
     "name": "#%%\n"
    }
   }
  },
  {
   "cell_type": "code",
   "execution_count": 30,
   "outputs": [],
   "source": [
    "with pd.ExcelWriter('./webscrape_data/h2_live_eur.xlsx') as writer:\n",
    "    df_350_S.to_excel(writer, sheet_name='350 Small', index=False)\n",
    "    df_350_L.to_excel(writer, sheet_name='350 Large', index=False)\n",
    "    df_700.to_excel(writer, sheet_name='700 Small', index=False)"
   ],
   "metadata": {
    "collapsed": false,
    "pycharm": {
     "name": "#%%\n"
    }
   }
  }
 ],
 "metadata": {
  "kernelspec": {
   "display_name": "Python 3",
   "language": "python",
   "name": "python3"
  },
  "language_info": {
   "codemirror_mode": {
    "name": "ipython",
    "version": 2
   },
   "file_extension": ".py",
   "mimetype": "text/x-python",
   "name": "python",
   "nbconvert_exporter": "python",
   "pygments_lexer": "ipython2",
   "version": "2.7.6"
  }
 },
 "nbformat": 4,
 "nbformat_minor": 0
}